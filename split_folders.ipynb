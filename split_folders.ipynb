{
 "cells": [
  {
   "cell_type": "code",
   "execution_count": null,
   "id": "a1f35790",
   "metadata": {},
   "outputs": [],
   "source": [
    "!pip install split-folders\n",
    "import splitfolders  # or import split_folders"
   ]
  },
  {
   "cell_type": "code",
   "execution_count": null,
   "id": "066a5f00",
   "metadata": {},
   "outputs": [],
   "source": [
    "input_folder = 'ALL/' #folder of the dataset"
   ]
  },
  {
   "cell_type": "code",
   "execution_count": null,
   "id": "239ad81c",
   "metadata": {},
   "outputs": [],
   "source": [
    "splitfolders.ratio(input_folder, output= input_folder[:-1] + \" TVT\", \n",
    "                   seed=42, ratio=(.7, .2, .1), \n",
    "                   group_prefix=None) # default values"
   ]
  }
 ],
 "metadata": {
  "kernelspec": {
   "display_name": "Python 3 (ipykernel)",
   "language": "python",
   "name": "python3"
  },
  "language_info": {
   "codemirror_mode": {
    "name": "ipython",
    "version": 3
   },
   "file_extension": ".py",
   "mimetype": "text/x-python",
   "name": "python",
   "nbconvert_exporter": "python",
   "pygments_lexer": "ipython3",
   "version": "3.9.16"
  }
 },
 "nbformat": 4,
 "nbformat_minor": 5
}
