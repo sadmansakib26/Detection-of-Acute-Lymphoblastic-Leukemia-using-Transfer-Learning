{
 "cells": [
  {
   "cell_type": "code",
   "execution_count": null,
   "metadata": {
    "id": "3XbTinl7567F"
   },
   "outputs": [],
   "source": [
    "import tensorflow as tf\n",
    "import matplotlib.pyplot as plt\n",
    "import numpy as np\n",
    "import PIL\n",
    "from keras.layers import  Dense, Flatten\n",
    "from glob import glob\n",
    "from keras.layers import Dense, Flatten\n",
    "from keras.models import Model\n",
    "from keras.preprocessing.image import ImageDataGenerator\n",
    "\n",
    "# import warnings\n",
    "# warnings.filterwarnings(\"ignore\", category=FutureWarning)\n",
    "\n",
    "from keras.applications import MobileNet, VGG16, VGG19, ResNet50,\\\n",
    "      ResNet101, EfficientNetB3, DenseNet201, ResNet152\n",
    "\n",
    "from keras.callbacks import ModelCheckpoint"
   ]
  },
  {
   "cell_type": "code",
   "execution_count": null,
   "metadata": {
    "colab": {
     "base_uri": "https://localhost:8080/"
    },
    "id": "XDbbzUXG66oD",
    "outputId": "54d1075e-25b7-4c01-c28b-732d2534606b"
   },
   "outputs": [],
   "source": [
    "#data path\n",
    "train_data_path = 'ALL TVT/train'\n",
    "validation_data_path = 'ALL TVT/val'\n",
    "test_data_path = 'ALL TVT/test'"
   ]
  },
  {
   "cell_type": "code",
   "execution_count": null,
   "metadata": {
    "id": "UovwdBbA9I56"
   },
   "outputs": [],
   "source": [
    "IMAGE_SIZE = [224, 224] #size of image"
   ]
  },
  {
   "cell_type": "code",
   "execution_count": null,
   "metadata": {
    "colab": {
     "base_uri": "https://localhost:8080/"
    },
    "id": "9VEzARdS-YAM",
    "outputId": "ac4ac29f-8cef-477b-a9a6-5761f483ce32"
   },
   "outputs": [],
   "source": [
    "folders = glob('ALL TVT/train/*')\n",
    "folders"
   ]
  },
  {
   "cell_type": "code",
   "execution_count": null,
   "metadata": {
    "id": "H-bLex5c-dMJ"
   },
   "outputs": [],
   "source": [
    "train_datagen = ImageDataGenerator()\n",
    "validation_datagen = ImageDataGenerator()\n",
    "\n",
    "train_batchsize = 32\n",
    "val_batchsize = 32\n",
    "img_width, img_height = IMAGE_SIZE[0], IMAGE_SIZE[1]\n",
    "\n",
    "train_generator = train_datagen.flow_from_directory(\n",
    "        train_data_path,\n",
    "        target_size=(img_width, img_height),\n",
    "        batch_size=train_batchsize,\n",
    "        class_mode='categorical',\n",
    "        shuffle=False)\n",
    "\n",
    "validation_generator = validation_datagen.flow_from_directory(\n",
    "        validation_data_path,\n",
    "        target_size=(img_width, img_height),\n",
    "        batch_size=val_batchsize,\n",
    "        class_mode='categorical',\n",
    "        shuffle=False)"
   ]
  },
  {
   "cell_type": "code",
   "execution_count": null,
   "metadata": {},
   "outputs": [],
   "source": [
    "device = '/GPU:0' if tf.config.list_physical_devices('GPU') else '/CPU:0'\n",
    "\n",
    "n_epochs = 10 \n",
    "\n",
    "models_dict = {\n",
    "       'MobileNet': MobileNet,\n",
    "        'VGG16': VGG16,\n",
    "        'VGG19': VGG19,\n",
    "        'ResNet50': ResNet50,\n",
    "        'Resnet101': ResNet101,\n",
    "        'EfficientNetB3': EfficientNetB3,\n",
    "        'DenseNet201': DenseNet201,\n",
    "        'Resnet152': ResNet152\n",
    "    } #models used"
   ]
  },
  {
   "cell_type": "code",
   "execution_count": null,
   "metadata": {},
   "outputs": [],
   "source": [
    "with tf.device(device):\n",
    "    for model_name in models_dict:\n",
    "        print(f\"Training {model_name}\")\n",
    "        print('-----------------------------------')\n",
    "        KerasModel = models_dict[model_name]\n",
    "        base_model = KerasModel(input_shape=IMAGE_SIZE + [3], \n",
    "                                weights='imagenet', \n",
    "                                include_top=False)\n",
    "        for layer in base_model.layers:\n",
    "            layer.trainable = False\n",
    "\n",
    "        x = Flatten()(base_model.output)\n",
    "        prediction = Dense(len(folders), activation='softmax')(x)\n",
    "        model = Model(inputs=base_model.input, outputs=prediction)\n",
    "        model.summary()\n",
    "\n",
    "        adam = tf.optimizers.Adam()\n",
    "        model.compile(loss='categorical_crossentropy',\n",
    "                    optimizer=adam,\n",
    "                    metrics=['accuracy'])\n",
    "        \n",
    "        model_checkpoint = ModelCheckpoint(f'{model_name}.h5', \n",
    "                                           monitor='val_loss', \n",
    "                                           save_best_only=True)\n",
    "        callbacks = [model_checkpoint]\n",
    "        history = model.fit(\n",
    "            train_generator,\n",
    "            steps_per_epoch=train_generator.samples/train_generator.batch_size ,\n",
    "            epochs=n_epochs,\n",
    "            validation_data=validation_generator,\n",
    "            validation_steps=validation_generator.samples/validation_generator.batch_size,\n",
    "            verbose=1,\n",
    "            callbacks=callbacks)\n",
    "\n",
    "        # Plot accuracy\n",
    "        fig1 = plt.figure(figsize=(12,6))\n",
    "        plt.plot(history.history['accuracy'])\n",
    "        plt.plot(history.history['val_accuracy'])\n",
    "        plt.ylim(0.7,1)\n",
    "        plt.title('Model Accuracy')\n",
    "        plt.ylabel('Accuracy')\n",
    "        plt.xlabel('Epochs')\n",
    "        plt.legend(['train', 'validation'])\n",
    "        plt.savefig(f'{model_name}_Accuracy.png')\n",
    "        plt.show()\n",
    "\n",
    "        # Plot loss\n",
    "        fig2 = plt.figure(figsize=(12,6))\n",
    "        plt.plot(history.history['loss'])\n",
    "        plt.plot(history.history['val_loss'])\n",
    "        plt.title('Model Loss')\n",
    "        plt.ylabel('Loss')\n",
    "        plt.xlabel('Epochs')\n",
    "        plt.legend(['train', 'validation'])\n",
    "        plt.savefig(f'{model_name}_Loss.png', bbox_inches='tight')\n",
    "        plt.show()"
   ]
  }
 ],
 "metadata": {
  "accelerator": "GPU",
  "colab": {
   "provenance": []
  },
  "gpuClass": "standard",
  "kernelspec": {
   "display_name": "tensorflow",
   "language": "python",
   "name": "python3"
  },
  "language_info": {
   "codemirror_mode": {
    "name": "ipython",
    "version": 3
   },
   "file_extension": ".py",
   "mimetype": "text/x-python",
   "name": "python",
   "nbconvert_exporter": "python",
   "pygments_lexer": "ipython3",
   "version": "3.9.16"
  }
 },
 "nbformat": 4,
 "nbformat_minor": 1
}
